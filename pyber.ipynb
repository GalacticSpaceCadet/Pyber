{
 "cells": [
  {
   "cell_type": "code",
   "execution_count": 2,
   "metadata": {
    "collapsed": true
   },
   "outputs": [],
   "source": [
    "#Install the needed dependencies\n",
    "import matplotlib.pyplot as plt\n",
    "import numpy as np\n",
    "import pandas as pd\n",
    "import os\n"
   ]
  },
  {
   "cell_type": "code",
   "execution_count": 4,
   "metadata": {
    "collapsed": true
   },
   "outputs": [],
   "source": [
    "#Load in the csv's\n",
    "ride_data_path = os.path.join('Data', 'ride_data.csv')\n",
    "city_data_path = os.path.join('Data', 'city_data.csv')\n",
    "\n",
    "ride_data_df = pd.read_csv(ride_data_path)\n",
    "city_data_df = pd.read_csv(city_data_path)\n"
   ]
  },
  {
   "cell_type": "code",
   "execution_count": 9,
   "metadata": {},
   "outputs": [
    {
     "data": {
      "text/html": [
       "<div>\n",
       "<style>\n",
       "    .dataframe thead tr:only-child th {\n",
       "        text-align: right;\n",
       "    }\n",
       "\n",
       "    .dataframe thead th {\n",
       "        text-align: left;\n",
       "    }\n",
       "\n",
       "    .dataframe tbody tr th {\n",
       "        vertical-align: top;\n",
       "    }\n",
       "</style>\n",
       "<table border=\"1\" class=\"dataframe\">\n",
       "  <thead>\n",
       "    <tr style=\"text-align: right;\">\n",
       "      <th></th>\n",
       "      <th>city</th>\n",
       "      <th>date</th>\n",
       "      <th>fare</th>\n",
       "      <th>ride_id</th>\n",
       "      <th>driver_count</th>\n",
       "      <th>type</th>\n",
       "    </tr>\n",
       "  </thead>\n",
       "  <tbody>\n",
       "    <tr>\n",
       "      <th>0</th>\n",
       "      <td>Sarabury</td>\n",
       "      <td>2016-01-16 13:49:27</td>\n",
       "      <td>38.35</td>\n",
       "      <td>5403689035038</td>\n",
       "      <td>46</td>\n",
       "      <td>Urban</td>\n",
       "    </tr>\n",
       "    <tr>\n",
       "      <th>1</th>\n",
       "      <td>Sarabury</td>\n",
       "      <td>2016-07-23 07:42:44</td>\n",
       "      <td>21.76</td>\n",
       "      <td>7546681945283</td>\n",
       "      <td>46</td>\n",
       "      <td>Urban</td>\n",
       "    </tr>\n",
       "    <tr>\n",
       "      <th>2</th>\n",
       "      <td>Sarabury</td>\n",
       "      <td>2016-04-02 04:32:25</td>\n",
       "      <td>38.03</td>\n",
       "      <td>4932495851866</td>\n",
       "      <td>46</td>\n",
       "      <td>Urban</td>\n",
       "    </tr>\n",
       "    <tr>\n",
       "      <th>3</th>\n",
       "      <td>Sarabury</td>\n",
       "      <td>2016-06-23 05:03:41</td>\n",
       "      <td>26.82</td>\n",
       "      <td>6711035373406</td>\n",
       "      <td>46</td>\n",
       "      <td>Urban</td>\n",
       "    </tr>\n",
       "    <tr>\n",
       "      <th>4</th>\n",
       "      <td>Sarabury</td>\n",
       "      <td>2016-09-30 12:48:34</td>\n",
       "      <td>30.30</td>\n",
       "      <td>6388737278232</td>\n",
       "      <td>46</td>\n",
       "      <td>Urban</td>\n",
       "    </tr>\n",
       "  </tbody>\n",
       "</table>\n",
       "</div>"
      ],
      "text/plain": [
       "       city                 date   fare        ride_id  driver_count   type\n",
       "0  Sarabury  2016-01-16 13:49:27  38.35  5403689035038            46  Urban\n",
       "1  Sarabury  2016-07-23 07:42:44  21.76  7546681945283            46  Urban\n",
       "2  Sarabury  2016-04-02 04:32:25  38.03  4932495851866            46  Urban\n",
       "3  Sarabury  2016-06-23 05:03:41  26.82  6711035373406            46  Urban\n",
       "4  Sarabury  2016-09-30 12:48:34  30.30  6388737278232            46  Urban"
      ]
     },
     "execution_count": 9,
     "metadata": {},
     "output_type": "execute_result"
    }
   ],
   "source": [
    "combined_data_df = pd.merge(ride_data_df, city_data_df, how='outer', on='city')\n",
    "combined_data_df.head()"
   ]
  },
  {
   "cell_type": "code",
   "execution_count": 20,
   "metadata": {},
   "outputs": [
    {
     "data": {
      "text/plain": [
       "Port James              64\n",
       "Swansonbury             34\n",
       "Port Johnstad           34\n",
       "South Louis             32\n",
       "Arnoldview              31\n",
       "Jacobfort               31\n",
       "West Peter              31\n",
       "Alvarezhaven            31\n",
       "Williamshire            31\n",
       "West Brandy             30\n",
       "Stewartview             30\n",
       "West Dawnfurt           29\n",
       "West Oscar              29\n",
       "Carrollfort             29\n",
       "Kelseyland              28\n",
       "Lisaville               28\n",
       "East Erin               28\n",
       "New David               28\n",
       "New Andreamouth         28\n",
       "Sarabury                27\n",
       "Edwardsbury             27\n",
       "Smithhaven              27\n",
       "Port Samantha           27\n",
       "Sandymouth              27\n",
       "Kimberlychester         27\n",
       "Alyssaberg              26\n",
       "Torresshire             26\n",
       "Nguyenbury              26\n",
       "Spencertown             26\n",
       "Lake Jennaton           25\n",
       "                        ..\n",
       "South Joseph            12\n",
       "Clarkstad               12\n",
       "West Evan               12\n",
       "Jasonfort               12\n",
       "New Michelleberg        11\n",
       "Conwaymouth             11\n",
       "Williamchester          11\n",
       "East Leslie             11\n",
       "Carrollbury             10\n",
       "Floresberg              10\n",
       "North Tracyfort         10\n",
       "Kennethburgh            10\n",
       "North Whitney           10\n",
       "East Stephen            10\n",
       "Hernandezshire           9\n",
       "Anitamouth               9\n",
       "Martinmouth              9\n",
       "North Tara               9\n",
       "Erikport                 8\n",
       "East Troybury            7\n",
       "West Kevintown           7\n",
       "Kinghaven                6\n",
       "Shelbyhaven              6\n",
       "Jacksonfort              6\n",
       "South Elizabethmouth     5\n",
       "Stevensport              5\n",
       "Matthewside              4\n",
       "New Johnbury             4\n",
       "Horneland                4\n",
       "Manuelchester            1\n",
       "Name: city, Length: 125, dtype: int64"
      ]
     },
     "execution_count": 20,
     "metadata": {},
     "output_type": "execute_result"
    }
   ],
   "source": [
    "city_average = combined_data_df.groupby([\"city\"])\n",
    " \n",
    "ave_fare = city_average[\"fare\"].mean()\n",
    "\n",
    "rides_city = combined_data_df['city'].value_counts()\n",
    "\n"
   ]
  },
  {
   "cell_type": "code",
   "execution_count": 23,
   "metadata": {},
   "outputs": [],
   "source": [
    "city_type = combined_data_df.groupby([\"city\",\"type\"])"
   ]
  },
  {
   "cell_type": "code",
   "execution_count": null,
   "metadata": {
    "collapsed": true
   },
   "outputs": [],
   "source": []
  },
  {
   "cell_type": "code",
   "execution_count": null,
   "metadata": {
    "collapsed": true
   },
   "outputs": [],
   "source": []
  }
 ],
 "metadata": {
  "kernelspec": {
   "display_name": "Python 3",
   "language": "python",
   "name": "python3"
  },
  "language_info": {
   "codemirror_mode": {
    "name": "ipython",
    "version": 3
   },
   "file_extension": ".py",
   "mimetype": "text/x-python",
   "name": "python",
   "nbconvert_exporter": "python",
   "pygments_lexer": "ipython3",
   "version": "3.6.3"
  }
 },
 "nbformat": 4,
 "nbformat_minor": 2
}
